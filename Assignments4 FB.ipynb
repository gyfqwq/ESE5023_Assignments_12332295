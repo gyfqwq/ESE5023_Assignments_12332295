{
 "cells": [
  {
   "cell_type": "markdown",
   "id": "1cd0b37a",
   "metadata": {},
   "source": [
    "Assignment 4 (due on 12/06)\n",
    "\n",
    "Student：高雨菲（12332295），Gtihub：gyfqwq\n",
    "\n",
    "批改人：赵淑慧\n",
    "\n",
    "得分：29+1/30\n",
    "\n",
    "认真写了报告加一分"
   ]
  },
  {
   "cell_type": "markdown",
   "id": "4e38d672",
   "metadata": {},
   "source": [
    "# PS1. Global Earthquakes\n",
    "9/10  \n",
    "没有使用Robinson投影。\n",
    "ValueError是ax.stock_img()方法在部分cartopy版本中不兼容部分类型的投影引起的，目前的解决方式是使用较老版本的cartopy，可以考虑新创建一个python版本3.9的环境再使用cartopy包。"
   ]
  },
  {
   "cell_type": "markdown",
   "id": "44b42bd6",
   "metadata": {},
   "source": [
    "# PS2. Explore a netCDF dataset\n",
    "20/20  \n",
    "1. 10/10\n",
    "2. 10/10"
   ]
  }
 ],
 "metadata": {
  "kernelspec": {
   "display_name": "py39ta",
   "language": "python",
   "name": "ta"
  },
  "language_info": {
   "codemirror_mode": {
    "name": "ipython",
    "version": 3
   },
   "file_extension": ".py",
   "mimetype": "text/x-python",
   "name": "python",
   "nbconvert_exporter": "python",
   "pygments_lexer": "ipython3",
   "version": "3.9.18"
  }
 },
 "nbformat": 4,
 "nbformat_minor": 5
}
